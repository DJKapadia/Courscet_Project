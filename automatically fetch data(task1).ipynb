{
 "cells": [
  {
   "cell_type": "code",
   "execution_count": 1,
   "metadata": {},
   "outputs": [],
   "source": [
    "import json"
   ]
  },
  {
   "cell_type": "code",
   "execution_count": 2,
   "metadata": {},
   "outputs": [],
   "source": [
    "with open(\"exme.json\") as f:\n",
    "    data=json.load(f)"
   ]
  },
  {
   "cell_type": "code",
   "execution_count": 3,
   "metadata": {},
   "outputs": [
    {
     "data": {
      "text/plain": [
       "[{'id': 1,\n",
       "  'firstName': 'David',\n",
       "  'lastName': 'Wallace',\n",
       "  'department': 'Mobile',\n",
       "  'salarySlab': 'High',\n",
       "  'city': 'New York',\n",
       "  'country': 'US'},\n",
       " {'id': 2,\n",
       "  'firstName': 'Sonia',\n",
       "  'lastName': 'Ross',\n",
       "  'department': 'Web',\n",
       "  'salarySlab': 'Low',\n",
       "  'city': 'Texas',\n",
       "  'country': 'US'},\n",
       " {'id': 3,\n",
       "  'firstName': 'Anthony',\n",
       "  'lastName': 'Thomson',\n",
       "  'department': 'Web',\n",
       "  'salarySlab': 'High',\n",
       "  'city': 'London',\n",
       "  'country': 'UK'},\n",
       " {'id': 4,\n",
       "  'firstName': 'John',\n",
       "  'lastName': 'Duo',\n",
       "  'department': 'Web',\n",
       "  'salarySlab': 'Low',\n",
       "  'city': 'Liverpool',\n",
       "  'country': 'UK'}]"
      ]
     },
     "execution_count": 3,
     "metadata": {},
     "output_type": "execute_result"
    }
   ],
   "source": [
    "data"
   ]
  },
  {
   "cell_type": "code",
   "execution_count": 41,
   "metadata": {},
   "outputs": [
    {
     "name": "stdout",
     "output_type": "stream",
     "text": [
      "('UK', 2, 50.0)\n",
      "('US', 2, 50.0)\n",
      "('Mobile', 1, 25.0)\n",
      "('Web', 3, 75.0)\n",
      "('High', 2, 50.0)\n",
      "('Low', 2, 50.0)\n"
     ]
    }
   ],
   "source": [
    "import json\n",
    "import sqlite3\n",
    "from tkinter import *\n",
    "from tkinter.ttk import Combobox\n",
    "import pandas as pd\n",
    "#open json file and store its content in data\n",
    "with open(\"exme.json\") as f: # here exme is a json file where our data is stored\n",
    "    data=json.load(f)\n",
    "#we create dataframe for our json content\n",
    "df=pd.DataFrame(data)\n",
    "conn=sqlite3.connect('Dhruv.db') # Connect database here Dhruv.db is a database name\n",
    "c=conn.cursor()\n",
    "df.to_sql('employee',conn) # to_sql() function is used to write records stored in a DataFrame to a SQL database here  employee is a table name\n",
    "def print_me():\n",
    "    value=combo.get() #retrive value from combobox\n",
    "    #sql query when country selected in a combobx\n",
    "    if value=='Country':\n",
    "        conn = sqlite3.connect('Dhruv.db')\n",
    "        cursor = conn.cursor()\n",
    "        a = \"select Country,count(Firstname) as Count_of_user,ROUND((count(*)*100)/(SELECT count(*) FROM employee)) as percentage from employee group by Country\"\n",
    "        cur = conn.cursor()\n",
    "        cur.execute(a)\n",
    "        # while True:\n",
    "        b = cur.fetchall()\n",
    "        for v in b:\n",
    "            if (v == None):\n",
    "                break\n",
    "            print(v)\n",
    "        conn.close()\n",
    "    #sql query when department selected in a combobx\n",
    "    elif value=='Department':\n",
    "        conn = sqlite3.connect('Dhruv.db')\n",
    "        cursor = conn.cursor()\n",
    "        a = \"select Department,count(Firstname) as Count_of_user,ROUND((count(*)*100)/(SELECT count(*) FROM employee)) as percentage from employee group by Department\"\n",
    "        cur = conn.cursor()\n",
    "        cur.execute(a)\n",
    "        # while True:\n",
    "        b = cur.fetchall()\n",
    "        for v in b:\n",
    "            if (v == None):\n",
    "                break\n",
    "            print(v)\n",
    "        conn.close()\n",
    "    #sql query when salaryslab selected in a combobx\n",
    "    else:\n",
    "        conn = sqlite3.connect('Dhruv.db')\n",
    "        cursor = conn.cursor()\n",
    "        a = \"select salarySlab,count(Firstname) as Count_of_user,ROUND((count(*)*100)/(SELECT count(*) FROM employee)) as percentage from employee group by salarySlab\"\n",
    "        cur = conn.cursor()\n",
    "        cur.execute(a)\n",
    "        # while True:\n",
    "        b = cur.fetchall()\n",
    "        for v in b:\n",
    "            if (v == None):\n",
    "                break\n",
    "            print(v)\n",
    "        conn.close()\n",
    "\n",
    "root=Tk()\n",
    "v=[\"Department\",\"Country\",\"Salary_sab\"]\n",
    "combo=Combobox(root,values=v,width=15) #create combobx(dropdown menu)\n",
    "combo.place(x=150,y=20)\n",
    "button=Button(root,text=\"Select\",command=print_me)\n",
    "button.place(x=150,y=50)\n",
    "root.geometry(\"300x300+120+120\") #set size of our output window\n",
    "root.mainloop()"
   ]
  },
  {
   "cell_type": "code",
   "execution_count": null,
   "metadata": {},
   "outputs": [],
   "source": []
  }
 ],
 "metadata": {
  "kernelspec": {
   "display_name": "Python 3",
   "language": "python",
   "name": "python3"
  },
  "language_info": {
   "codemirror_mode": {
    "name": "ipython",
    "version": 3
   },
   "file_extension": ".py",
   "mimetype": "text/x-python",
   "name": "python",
   "nbconvert_exporter": "python",
   "pygments_lexer": "ipython3",
   "version": "3.7.3"
  }
 },
 "nbformat": 4,
 "nbformat_minor": 2
}
